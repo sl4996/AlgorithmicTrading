{
 "cells": [
  {
   "cell_type": "code",
   "execution_count": 233,
   "id": "287b4850",
   "metadata": {},
   "outputs": [],
   "source": [
    "import pandas as pd\n",
    "import numpy as np\n",
    "from numpy.lib.stride_tricks import sliding_window_view\n",
    "\n",
    "import os\n",
    "import random\n",
    "import yfinance as yf\n",
    "from datetime import datetime as dt\n",
    "\n",
    "import plotly.graph_objects as go\n",
    "import glob\n",
    "import cv2\n",
    "\n",
    "from torch.optim import Adam\n",
    "from torchvision import transforms\n",
    "import torch.nn.functional as F\n",
    "from torch.utils import data as data_u\n",
    "from torch.utils.data import DataLoader\n",
    "from torch import nn, optim\n",
    "import torchvision\n",
    "import torch"
   ]
  },
  {
   "cell_type": "markdown",
   "id": "2a347086",
   "metadata": {},
   "source": [
    "### Creating the Training Data (create labels)"
   ]
  },
  {
   "cell_type": "code",
   "execution_count": 229,
   "id": "1bce75d6",
   "metadata": {},
   "outputs": [
    {
     "name": "stdout",
     "output_type": "stream",
     "text": [
      "[*********************100%***********************]  50 of 50 completedd\n",
      "\n",
      "2 Failed downloads:\n",
      "- CARR: No data found for this date range, symbol may be delisted\n",
      "- CNC: No data found for this date range, symbol may be delisted\n"
     ]
    }
   ],
   "source": [
    "# read the stock names\n",
    "stocks = pd.read_excel('Data/universe.xlsx')['symbol'][:50]\n",
    "\n",
    "# convert pd Series of strings into one long string (that the format yf wants)\n",
    "string_format_stocks = stocks.str.cat(sep=' ')\n",
    "\n",
    "# fetch the data\n",
    "prices = yf.download(string_format_stocks, start='2010-01-01', end=dt.today().strftime('%Y-%m-%d'))"
   ]
  },
  {
   "cell_type": "code",
   "execution_count": 230,
   "id": "d9c55b95",
   "metadata": {},
   "outputs": [
    {
     "name": "stderr",
     "output_type": "stream",
     "text": [
      "/var/folders/nz/jhg_xmnj7kn3vcf8309msskc0000gp/T/ipykernel_57948/3633743968.py:1: PerformanceWarning:\n",
      "\n",
      "DataFrame is highly fragmented.  This is usually the result of calling `frame.insert` many times, which has poor performance.  Consider joining all columns at once using pd.concat(axis=1) instead. To get a de-fragmented frame, use `newframe = frame.copy()`\n",
      "\n"
     ]
    },
    {
     "data": {
      "text/html": [
       "<div>\n",
       "<style scoped>\n",
       "    .dataframe tbody tr th:only-of-type {\n",
       "        vertical-align: middle;\n",
       "    }\n",
       "\n",
       "    .dataframe tbody tr th {\n",
       "        vertical-align: top;\n",
       "    }\n",
       "\n",
       "    .dataframe thead tr th {\n",
       "        text-align: left;\n",
       "    }\n",
       "</style>\n",
       "<table border=\"1\" class=\"dataframe\">\n",
       "  <thead>\n",
       "    <tr>\n",
       "      <th></th>\n",
       "      <th>Date</th>\n",
       "      <th colspan=\"9\" halign=\"left\">Adj Close</th>\n",
       "      <th>...</th>\n",
       "      <th colspan=\"10\" halign=\"left\">Volume</th>\n",
       "    </tr>\n",
       "    <tr>\n",
       "      <th></th>\n",
       "      <th></th>\n",
       "      <th>ABBV</th>\n",
       "      <th>ACN</th>\n",
       "      <th>AEP</th>\n",
       "      <th>AIZ</th>\n",
       "      <th>ALLE</th>\n",
       "      <th>AMAT</th>\n",
       "      <th>AMP</th>\n",
       "      <th>AMZN</th>\n",
       "      <th>AVB</th>\n",
       "      <th>...</th>\n",
       "      <th>PYPL</th>\n",
       "      <th>RE</th>\n",
       "      <th>ROL</th>\n",
       "      <th>ROST</th>\n",
       "      <th>UNH</th>\n",
       "      <th>URI</th>\n",
       "      <th>V</th>\n",
       "      <th>VRSK</th>\n",
       "      <th>WRK</th>\n",
       "      <th>XOM</th>\n",
       "    </tr>\n",
       "  </thead>\n",
       "  <tbody>\n",
       "    <tr>\n",
       "      <th>0</th>\n",
       "      <td>2010-01-04</td>\n",
       "      <td>NaN</td>\n",
       "      <td>32.970909</td>\n",
       "      <td>21.340595</td>\n",
       "      <td>23.350735</td>\n",
       "      <td>NaN</td>\n",
       "      <td>11.356114</td>\n",
       "      <td>29.852718</td>\n",
       "      <td>6.6950</td>\n",
       "      <td>54.045597</td>\n",
       "      <td>...</td>\n",
       "      <td>NaN</td>\n",
       "      <td>444800</td>\n",
       "      <td>839363</td>\n",
       "      <td>15743600</td>\n",
       "      <td>12199500</td>\n",
       "      <td>1692500</td>\n",
       "      <td>20180000</td>\n",
       "      <td>390000</td>\n",
       "      <td>NaN</td>\n",
       "      <td>27809100</td>\n",
       "    </tr>\n",
       "    <tr>\n",
       "      <th>1</th>\n",
       "      <td>2010-01-05</td>\n",
       "      <td>NaN</td>\n",
       "      <td>33.174675</td>\n",
       "      <td>21.096283</td>\n",
       "      <td>24.047535</td>\n",
       "      <td>NaN</td>\n",
       "      <td>11.268759</td>\n",
       "      <td>30.548878</td>\n",
       "      <td>6.7345</td>\n",
       "      <td>53.639587</td>\n",
       "      <td>...</td>\n",
       "      <td>NaN</td>\n",
       "      <td>327200</td>\n",
       "      <td>701663</td>\n",
       "      <td>9369600</td>\n",
       "      <td>11180700</td>\n",
       "      <td>1459200</td>\n",
       "      <td>25833600</td>\n",
       "      <td>430000</td>\n",
       "      <td>NaN</td>\n",
       "      <td>30174700</td>\n",
       "    </tr>\n",
       "    <tr>\n",
       "      <th>2</th>\n",
       "      <td>2010-01-06</td>\n",
       "      <td>NaN</td>\n",
       "      <td>33.527363</td>\n",
       "      <td>21.310066</td>\n",
       "      <td>23.977861</td>\n",
       "      <td>NaN</td>\n",
       "      <td>11.244935</td>\n",
       "      <td>30.975563</td>\n",
       "      <td>6.6125</td>\n",
       "      <td>53.133728</td>\n",
       "      <td>...</td>\n",
       "      <td>NaN</td>\n",
       "      <td>266400</td>\n",
       "      <td>841388</td>\n",
       "      <td>13144800</td>\n",
       "      <td>9761100</td>\n",
       "      <td>1072900</td>\n",
       "      <td>16254000</td>\n",
       "      <td>848900</td>\n",
       "      <td>NaN</td>\n",
       "      <td>35044700</td>\n",
       "    </tr>\n",
       "    <tr>\n",
       "      <th>3</th>\n",
       "      <td>2010-01-07</td>\n",
       "      <td>NaN</td>\n",
       "      <td>33.496006</td>\n",
       "      <td>21.493296</td>\n",
       "      <td>24.272068</td>\n",
       "      <td>NaN</td>\n",
       "      <td>11.125817</td>\n",
       "      <td>31.207626</td>\n",
       "      <td>6.5000</td>\n",
       "      <td>53.240242</td>\n",
       "      <td>...</td>\n",
       "      <td>NaN</td>\n",
       "      <td>354600</td>\n",
       "      <td>536119</td>\n",
       "      <td>23984800</td>\n",
       "      <td>11789800</td>\n",
       "      <td>2052800</td>\n",
       "      <td>27841200</td>\n",
       "      <td>426600</td>\n",
       "      <td>NaN</td>\n",
       "      <td>27192100</td>\n",
       "    </tr>\n",
       "    <tr>\n",
       "      <th>4</th>\n",
       "      <td>2010-01-08</td>\n",
       "      <td>NaN</td>\n",
       "      <td>33.362770</td>\n",
       "      <td>21.749815</td>\n",
       "      <td>24.287550</td>\n",
       "      <td>NaN</td>\n",
       "      <td>11.554646</td>\n",
       "      <td>31.319908</td>\n",
       "      <td>6.6760</td>\n",
       "      <td>52.840878</td>\n",
       "      <td>...</td>\n",
       "      <td>NaN</td>\n",
       "      <td>276900</td>\n",
       "      <td>330581</td>\n",
       "      <td>15926000</td>\n",
       "      <td>7228700</td>\n",
       "      <td>1399000</td>\n",
       "      <td>11907200</td>\n",
       "      <td>253200</td>\n",
       "      <td>NaN</td>\n",
       "      <td>24891800</td>\n",
       "    </tr>\n",
       "  </tbody>\n",
       "</table>\n",
       "<p>5 rows × 301 columns</p>\n",
       "</div>"
      ],
      "text/plain": [
       "        Date Adj Close                                                   \\\n",
       "                  ABBV        ACN        AEP        AIZ ALLE       AMAT   \n",
       "0 2010-01-04       NaN  32.970909  21.340595  23.350735  NaN  11.356114   \n",
       "1 2010-01-05       NaN  33.174675  21.096283  24.047535  NaN  11.268759   \n",
       "2 2010-01-06       NaN  33.527363  21.310066  23.977861  NaN  11.244935   \n",
       "3 2010-01-07       NaN  33.496006  21.493296  24.272068  NaN  11.125817   \n",
       "4 2010-01-08       NaN  33.362770  21.749815  24.287550  NaN  11.554646   \n",
       "\n",
       "                                 ... Volume                            \\\n",
       "         AMP    AMZN        AVB  ...   PYPL      RE     ROL      ROST   \n",
       "0  29.852718  6.6950  54.045597  ...    NaN  444800  839363  15743600   \n",
       "1  30.548878  6.7345  53.639587  ...    NaN  327200  701663   9369600   \n",
       "2  30.975563  6.6125  53.133728  ...    NaN  266400  841388  13144800   \n",
       "3  31.207626  6.5000  53.240242  ...    NaN  354600  536119  23984800   \n",
       "4  31.319908  6.6760  52.840878  ...    NaN  276900  330581  15926000   \n",
       "\n",
       "                                                      \n",
       "        UNH      URI         V    VRSK WRK       XOM  \n",
       "0  12199500  1692500  20180000  390000 NaN  27809100  \n",
       "1  11180700  1459200  25833600  430000 NaN  30174700  \n",
       "2   9761100  1072900  16254000  848900 NaN  35044700  \n",
       "3  11789800  2052800  27841200  426600 NaN  27192100  \n",
       "4   7228700  1399000  11907200  253200 NaN  24891800  \n",
       "\n",
       "[5 rows x 301 columns]"
      ]
     },
     "execution_count": 230,
     "metadata": {},
     "output_type": "execute_result"
    }
   ],
   "source": [
    "prices.reset_index(inplace=True)\n",
    "prices.head()"
   ]
  },
  {
   "cell_type": "code",
   "execution_count": 231,
   "id": "de878220",
   "metadata": {},
   "outputs": [],
   "source": [
    "# extract the dates to use in the sliding window\n",
    "dates = prices['Date']\n",
    "\n",
    "# create windows of 15 days that jump every 5 days (5 days overlap)\n",
    "windows = sliding_window_view(dates, window_shape = 15)[::5]"
   ]
  },
  {
   "cell_type": "code",
   "execution_count": null,
   "id": "45310458",
   "metadata": {},
   "outputs": [],
   "source": [
    "# create an array to store the associated following week returns for each window\n",
    "counter = 0\n",
    "\n",
    "# specify the test ratio\n",
    "test_ratio = 0.2\n",
    "\n",
    "# loop through each stock and then through the windows\n",
    "for stock in stocks:\n",
    "    # extract the current stock data\n",
    "    current_stock = prices.iloc[:, (prices.columns.get_level_values(1)==stock) | (prices.columns.get_level_values(0)=='Date')]\n",
    "\n",
    "    # drop the multiindex column names (stock name is uneccessary)\n",
    "    current_stock = current_stock.droplevel(level=1, axis=1)\n",
    "    \n",
    "    # some stocks dont have historical data from year 2010, so drop na\n",
    "    current_stock.dropna(inplace=True)\n",
    "        \n",
    "    for i in range(len(windows)-1):\n",
    "\n",
    "        # slice the dataframe\n",
    "        window_data = current_stock.loc[prices['Date'].isin(windows[i])]\n",
    "        \n",
    "        if len(window_data) == 15:\n",
    "            \n",
    "            # allocate test_ratio of images to the test folder, others to the train folder\n",
    "            test = random.random() < test_ratio\n",
    "            train_or_test = 'test' if test else 'train'\n",
    "\n",
    "            # make the figure\n",
    "            fig = go.Figure(data=[go.Candlestick(x=window_data['Date'], open=window_data['Open'], high=window_data['High'],\n",
    "                                                 low=window_data['Low'], close=window_data['Close'])])\n",
    "\n",
    "            # remove uneccessary stuff from the figure\n",
    "            fig.update_yaxes(showticklabels=False)\n",
    "            fig.update_xaxes(showticklabels=False)\n",
    "            fig.update_layout(xaxis_rangeslider_visible=False)\n",
    "            \n",
    "            # find the associated next week return (if its -0.0 then take the absolute value)\n",
    "            next_window_data = current_stock.loc[current_stock['Date'].isin(windows[i+1])]\n",
    "            next_window_data.reset_index(inplace=True, drop=True) # to have the index always from 0 to 9\n",
    "            following_week_return = next_window_data['Adj Close'].pct_change(periods=5)[5].round(3)\n",
    "            associated_return = np.round(following_week_return, 1)\n",
    "            abs(associated_return) if associated_return == -0.0 else associated_return\n",
    "            \n",
    "            \n",
    "            path = f'pattern_images/{train_or_test}/{associated_return}/'\n",
    "\n",
    "            if not os.path.exists(path):\n",
    "                os.makedirs(path)\n",
    "                \n",
    "            # save the figure\n",
    "            fig.write_image(path + f'fig {counter}.png')\n",
    "\n",
    "\n",
    "            # increase the counter\n",
    "            counter += 1\n",
    "            "
   ]
  },
  {
   "cell_type": "code",
   "execution_count": 122,
   "id": "e35bff86",
   "metadata": {},
   "outputs": [],
   "source": [
    "associated_returns_np = np.array(associated_returns)"
   ]
  },
  {
   "cell_type": "code",
   "execution_count": 123,
   "id": "945ac3cf",
   "metadata": {},
   "outputs": [
    {
     "data": {
      "text/plain": [
       "array([ 0.08,  0.03, -0.01, ...,  0.  , -0.03, -0.07])"
      ]
     },
     "execution_count": 123,
     "metadata": {},
     "output_type": "execute_result"
    }
   ],
   "source": [
    "np.round(associated_returns_np,2)"
   ]
  },
  {
   "cell_type": "code",
   "execution_count": 226,
   "id": "40eb9ffc",
   "metadata": {},
   "outputs": [
    {
     "data": {
      "text/plain": [
       "11"
      ]
     },
     "execution_count": 226,
     "metadata": {},
     "output_type": "execute_result"
    }
   ],
   "source": [
    "len(np.unique(np.round(associated_returns_np,1)))"
   ]
  },
  {
   "cell_type": "markdown",
   "id": "2d8ef05f",
   "metadata": {},
   "source": [
    "### Create labeled data for the CNN (stock pattern + its return for the following week)"
   ]
  },
  {
   "cell_type": "code",
   "execution_count": 150,
   "id": "d96b84d4",
   "metadata": {},
   "outputs": [],
   "source": [
    "num_images = len(glob.glob('pattern_images/*'))"
   ]
  },
  {
   "cell_type": "code",
   "execution_count": 204,
   "id": "bc2ed8e0",
   "metadata": {},
   "outputs": [],
   "source": [
    "data = []\n",
    "for i in range(num_images):\n",
    "    image = cv2.imread(f'pattern_images/fig {i}.png')\n",
    "    image = cv2.resize(image, (150, 150))\n",
    "    associated_return = associated_returns[i]\n",
    "    data.append([image, associated_return])"
   ]
  },
  {
   "cell_type": "code",
   "execution_count": 215,
   "id": "913d2462",
   "metadata": {},
   "outputs": [],
   "source": [
    "class Network(nn.Module):\n",
    "    def __init__(self):\n",
    "        super().__init__()\n",
    "        self.conv1 = nn.Conv2d(3, 6, 5)\n",
    "        self.pool = nn.MaxPool2d(2, 2)\n",
    "        self.conv2 = nn.Conv2d(6, 16, 5)\n",
    "        self.fc1 = nn.Linear(16 * 5 * 5, 120)\n",
    "        self.fc2 = nn.Linear(120, 84)\n",
    "        self.fc3 = nn.Linear(84, 10)\n",
    "\n",
    "    def forward(self, x):\n",
    "        x = self.pool(F.relu(self.conv1(x)))\n",
    "        x = self.pool(F.relu(self.conv2(x)))\n",
    "        x = torch.flatten(x, 1)\n",
    "        x = F.relu(self.fc1(x))\n",
    "        x = F.relu(self.fc2(x))\n",
    "        x = self.fc3(x)\n",
    "        return x\n",
    "\n",
    "\n",
    "model = Network()"
   ]
  },
  {
   "cell_type": "code",
   "execution_count": 216,
   "id": "3168cd47",
   "metadata": {},
   "outputs": [],
   "source": [
    "loss_fn = nn.CrossEntropyLoss()\n",
    "optimizer = Adam(model.parameters(), lr=0.001, weight_decay=0.0001)"
   ]
  },
  {
   "cell_type": "code",
   "execution_count": 214,
   "id": "e1117f76",
   "metadata": {},
   "outputs": [
    {
     "ename": "NameError",
     "evalue": "name 'trainloader' is not defined",
     "output_type": "error",
     "traceback": [
      "\u001b[0;31m---------------------------------------------------------------------------\u001b[0m",
      "\u001b[0;31mNameError\u001b[0m                                 Traceback (most recent call last)",
      "Input \u001b[0;32mIn [214]\u001b[0m, in \u001b[0;36m<cell line: 1>\u001b[0;34m()\u001b[0m\n\u001b[1;32m      1\u001b[0m \u001b[38;5;28;01mfor\u001b[39;00m epoch \u001b[38;5;129;01min\u001b[39;00m \u001b[38;5;28mrange\u001b[39m(\u001b[38;5;241m20\u001b[39m):  \u001b[38;5;66;03m# loop over the dataset multiple times\u001b[39;00m\n\u001b[1;32m      3\u001b[0m     running_loss \u001b[38;5;241m=\u001b[39m \u001b[38;5;241m0.0\u001b[39m\n\u001b[0;32m----> 4\u001b[0m     \u001b[38;5;28;01mfor\u001b[39;00m i, data \u001b[38;5;129;01min\u001b[39;00m \u001b[38;5;28menumerate\u001b[39m(\u001b[43mtrainloader\u001b[49m, \u001b[38;5;241m0\u001b[39m):\n\u001b[1;32m      5\u001b[0m         \u001b[38;5;66;03m# get the inputs; data is a list of [inputs, labels]\u001b[39;00m\n\u001b[1;32m      6\u001b[0m         inputs, labels \u001b[38;5;241m=\u001b[39m data\n\u001b[1;32m      8\u001b[0m         \u001b[38;5;66;03m# zero the parameter gradients\u001b[39;00m\n",
      "\u001b[0;31mNameError\u001b[0m: name 'trainloader' is not defined"
     ]
    }
   ],
   "source": [
    "for epoch in range(20):  # loop over the dataset multiple times\n",
    "\n",
    "    running_loss = 0.0\n",
    "    for i, data in enumerate(trainloader, 0):\n",
    "        # get the inputs; data is a list of [inputs, labels]\n",
    "        inputs, labels = data\n",
    "\n",
    "        # zero the parameter gradients\n",
    "        optimizer.zero_grad()\n",
    "\n",
    "        # forward + backward + optimize\n",
    "        outputs = net(inputs)\n",
    "        loss = criterion(outputs, labels)\n",
    "        loss.backward()\n",
    "        optimizer.step()\n",
    "\n",
    "        # print statistics\n",
    "        running_loss += loss.item()\n",
    "        if i % 2000 == 1999:    # print every 2000 mini-batches\n",
    "            print(f'[{epoch + 1}, {i + 1:5d}] loss: {running_loss / 2000:.3f}')\n",
    "            running_loss = 0.0\n",
    "\n",
    "print('Finished Training')"
   ]
  },
  {
   "cell_type": "code",
   "execution_count": null,
   "id": "164fdb02",
   "metadata": {},
   "outputs": [],
   "source": []
  },
  {
   "cell_type": "code",
   "execution_count": null,
   "id": "3f5bc050",
   "metadata": {},
   "outputs": [],
   "source": []
  }
 ],
 "metadata": {
  "kernelspec": {
   "display_name": "Python 3 (ipykernel)",
   "language": "python",
   "name": "python3"
  },
  "language_info": {
   "codemirror_mode": {
    "name": "ipython",
    "version": 3
   },
   "file_extension": ".py",
   "mimetype": "text/x-python",
   "name": "python",
   "nbconvert_exporter": "python",
   "pygments_lexer": "ipython3",
   "version": "3.8.8"
  }
 },
 "nbformat": 4,
 "nbformat_minor": 5
}
