{
 "cells": [
  {
   "cell_type": "code",
   "execution_count": 10,
   "id": "57c0b369",
   "metadata": {},
   "outputs": [],
   "source": [
    "import pandas as pd\n",
    "import numpy as np\n",
    "from numpy.lib.stride_tricks import sliding_window_view\n",
    "\n",
    "import yfinance as yf\n",
    "\n",
    "from datetime import datetime as dt\n",
    "\n",
    "import plotly.graph_objects as go"
   ]
  },
  {
   "cell_type": "markdown",
   "id": "f4091232",
   "metadata": {},
   "source": [
    "### Creating the Training Data (create labels)"
   ]
  },
  {
   "cell_type": "code",
   "execution_count": 2,
   "id": "495fc527",
   "metadata": {},
   "outputs": [
    {
     "name": "stdout",
     "output_type": "stream",
     "text": [
      "[*********************100%***********************]  1 of 1 completed\n"
     ]
    }
   ],
   "source": [
    "prices = yf.download('GOOG', start='2010-01-01', end=dt.today().strftime('%Y-%m-%d'))"
   ]
  },
  {
   "cell_type": "code",
   "execution_count": 3,
   "id": "6e0246fb",
   "metadata": {},
   "outputs": [
    {
     "data": {
      "text/html": [
       "<div>\n",
       "<style scoped>\n",
       "    .dataframe tbody tr th:only-of-type {\n",
       "        vertical-align: middle;\n",
       "    }\n",
       "\n",
       "    .dataframe tbody tr th {\n",
       "        vertical-align: top;\n",
       "    }\n",
       "\n",
       "    .dataframe thead th {\n",
       "        text-align: right;\n",
       "    }\n",
       "</style>\n",
       "<table border=\"1\" class=\"dataframe\">\n",
       "  <thead>\n",
       "    <tr style=\"text-align: right;\">\n",
       "      <th></th>\n",
       "      <th>Date</th>\n",
       "      <th>Open</th>\n",
       "      <th>High</th>\n",
       "      <th>Low</th>\n",
       "      <th>Close</th>\n",
       "      <th>Adj Close</th>\n",
       "      <th>Volume</th>\n",
       "    </tr>\n",
       "  </thead>\n",
       "  <tbody>\n",
       "    <tr>\n",
       "      <th>0</th>\n",
       "      <td>2010-01-04</td>\n",
       "      <td>15.615220</td>\n",
       "      <td>15.678981</td>\n",
       "      <td>15.547723</td>\n",
       "      <td>15.610239</td>\n",
       "      <td>15.610239</td>\n",
       "      <td>78541293</td>\n",
       "    </tr>\n",
       "    <tr>\n",
       "      <th>1</th>\n",
       "      <td>2010-01-05</td>\n",
       "      <td>15.620949</td>\n",
       "      <td>15.637387</td>\n",
       "      <td>15.480475</td>\n",
       "      <td>15.541497</td>\n",
       "      <td>15.541497</td>\n",
       "      <td>120638494</td>\n",
       "    </tr>\n",
       "    <tr>\n",
       "      <th>2</th>\n",
       "      <td>2010-01-06</td>\n",
       "      <td>15.588072</td>\n",
       "      <td>15.588072</td>\n",
       "      <td>15.102393</td>\n",
       "      <td>15.149715</td>\n",
       "      <td>15.149715</td>\n",
       "      <td>159744526</td>\n",
       "    </tr>\n",
       "    <tr>\n",
       "      <th>3</th>\n",
       "      <td>2010-01-07</td>\n",
       "      <td>15.178109</td>\n",
       "      <td>15.193053</td>\n",
       "      <td>14.760922</td>\n",
       "      <td>14.797037</td>\n",
       "      <td>14.797037</td>\n",
       "      <td>257533695</td>\n",
       "    </tr>\n",
       "    <tr>\n",
       "      <th>4</th>\n",
       "      <td>2010-01-08</td>\n",
       "      <td>14.744733</td>\n",
       "      <td>15.024933</td>\n",
       "      <td>14.672753</td>\n",
       "      <td>14.994298</td>\n",
       "      <td>14.994298</td>\n",
       "      <td>189680313</td>\n",
       "    </tr>\n",
       "  </tbody>\n",
       "</table>\n",
       "</div>"
      ],
      "text/plain": [
       "        Date       Open       High        Low      Close  Adj Close     Volume\n",
       "0 2010-01-04  15.615220  15.678981  15.547723  15.610239  15.610239   78541293\n",
       "1 2010-01-05  15.620949  15.637387  15.480475  15.541497  15.541497  120638494\n",
       "2 2010-01-06  15.588072  15.588072  15.102393  15.149715  15.149715  159744526\n",
       "3 2010-01-07  15.178109  15.193053  14.760922  14.797037  14.797037  257533695\n",
       "4 2010-01-08  14.744733  15.024933  14.672753  14.994298  14.994298  189680313"
      ]
     },
     "execution_count": 3,
     "metadata": {},
     "output_type": "execute_result"
    }
   ],
   "source": [
    "prices.reset_index(inplace=True)\n",
    "prices.head()"
   ]
  },
  {
   "cell_type": "code",
   "execution_count": 13,
   "id": "26145d8d",
   "metadata": {},
   "outputs": [],
   "source": [
    "# extract the dates to use in the sliding window\n",
    "dates = prices['Date']\n",
    "\n",
    "# create windows of 15 days that jump every 5 days (5 days overlap)\n",
    "windows = sliding_window_view(dates, window_shape = 15)[::5]"
   ]
  },
  {
   "cell_type": "code",
   "execution_count": 33,
   "id": "b8992c53",
   "metadata": {},
   "outputs": [],
   "source": [
    "# create an array to store the associated following week returns for each window\n",
    "associated_returns = np.zeros(len(windows)-1)\n",
    "\n",
    "for i in range(len(windows)-1):\n",
    "    \n",
    "    # slice the dataframe\n",
    "    window_data = prices.loc[prices['Date'].isin(windows[i])]\n",
    "    \n",
    "    # make the figure\n",
    "    fig = go.Figure(data=[go.Candlestick(x=window_data['Date'], open=window_data['Open'], high=window_data['High'],\n",
    "                                         low=window_data['Low'], close=window_data['Close'])])\n",
    "    \n",
    "    # remove uneccessary stuff from the figure\n",
    "    fig.update_yaxes(showticklabels=False)\n",
    "    fig.update_xaxes(showticklabels=False)\n",
    "    fig.update_layout(xaxis_rangeslider_visible=False)\n",
    "    \n",
    "    # save the figure\n",
    "    fig.write_image(f'pattern_images/fig {i}.png')\n",
    "    \n",
    "    # find the associated next week return and write it to the associated_returns array\n",
    "    next_window_data = prices.loc[prices['Date'].isin(windows[i+1])]\n",
    "    next_window_data.reset_index(inplace=True, drop=True) # to have the index always from 0 to 9\n",
    "    following_week_return = temp['Adj Close'].pct_change(periods=5)[5].round(3)\n",
    "    associated_returns[i] = following_week_return"
   ]
  },
  {
   "cell_type": "markdown",
   "id": "22660e36",
   "metadata": {},
   "source": [
    "### Create labeled data for the CNN (stock pattern + its return for the following week)"
   ]
  },
  {
   "cell_type": "code",
   "execution_count": null,
   "id": "6899a42c",
   "metadata": {},
   "outputs": [],
   "source": []
  }
 ],
 "metadata": {
  "kernelspec": {
   "display_name": "Python 3 (ipykernel)",
   "language": "python",
   "name": "python3"
  },
  "language_info": {
   "codemirror_mode": {
    "name": "ipython",
    "version": 3
   },
   "file_extension": ".py",
   "mimetype": "text/x-python",
   "name": "python",
   "nbconvert_exporter": "python",
   "pygments_lexer": "ipython3",
   "version": "3.8.8"
  }
 },
 "nbformat": 4,
 "nbformat_minor": 5
}
